{
 "cells": [
  {
   "cell_type": "code",
   "execution_count": 13,
   "id": "a251940c",
   "metadata": {},
   "outputs": [],
   "source": [
    "import json\n",
    "import pandas as pd\n",
    "from collections import defaultdict\n",
    "import numpy as np"
   ]
  },
  {
   "cell_type": "code",
   "execution_count": 14,
   "id": "41c9a165",
   "metadata": {},
   "outputs": [],
   "source": [
    "sample_threads = json.load(open(\"./testdata/sample_multi_data_2018_04.json\"))"
   ]
  },
  {
   "cell_type": "code",
   "execution_count": 15,
   "id": "a17eae40",
   "metadata": {},
   "outputs": [
    {
     "data": {
      "text/plain": [
       "15343"
      ]
     },
     "execution_count": 15,
     "metadata": {},
     "output_type": "execute_result"
    }
   ],
   "source": [
    "len(sample_threads)"
   ]
  },
  {
   "cell_type": "code",
   "execution_count": 16,
   "id": "6c6115a0",
   "metadata": {},
   "outputs": [],
   "source": [
    "# groupby thread/link id\n",
    "thread2samples = defaultdict(list)\n",
    "for sample in sample_threads:\n",
    "    thread2samples[sample['link_id'].split(\"_\")[1]].append(sample)"
   ]
  },
  {
   "cell_type": "code",
   "execution_count": 17,
   "id": "53bf241f",
   "metadata": {},
   "outputs": [
    {
     "data": {
      "text/plain": [
       "{'8fgnxe': 13261, '8ffv4w': 2082}"
      ]
     },
     "execution_count": 17,
     "metadata": {},
     "output_type": "execute_result"
    }
   ],
   "source": [
    "{k:len(v) for k,v in thread2samples.items()}"
   ]
  },
  {
   "cell_type": "code",
   "execution_count": 18,
   "id": "89823599",
   "metadata": {},
   "outputs": [
    {
     "data": {
      "text/plain": [
       "[{'body': 'THIS IS INSANEEE',\n",
       "  'score_hidden': 'false',\n",
       "  'archived': 'false',\n",
       "  'name': None,\n",
       "  'author': 'TeaBottom',\n",
       "  'author_flair_text': '76ers Bandwagon',\n",
       "  'downs': None,\n",
       "  'created_utc': '1524891819',\n",
       "  'subreddit_id': 't5_2qo4s',\n",
       "  'link_id': 't3_8fgnxe',\n",
       "  'parent_id': 't3_8fgnxe',\n",
       "  'score': '1',\n",
       "  'retrieved_on': '1526831355',\n",
       "  'controversiality': '0',\n",
       "  'gilded': '0',\n",
       "  'id': 'dy3oewi',\n",
       "  'subreddit': 'nba',\n",
       "  'ups': None,\n",
       "  'distinguished': None,\n",
       "  'author_flair_css_class': 'bw76ers'}]"
      ]
     },
     "execution_count": 18,
     "metadata": {},
     "output_type": "execute_result"
    }
   ],
   "source": [
    "thread2samples['8fgnxe'][:1]"
   ]
  },
  {
   "cell_type": "code",
   "execution_count": 19,
   "id": "bf9f4c13",
   "metadata": {},
   "outputs": [
    {
     "data": {
      "text/plain": [
       "2"
      ]
     },
     "execution_count": 19,
     "metadata": {},
     "output_type": "execute_result"
    }
   ],
   "source": [
    "len(thread2samples)"
   ]
  },
  {
   "cell_type": "code",
   "execution_count": 20,
   "id": "dc5184ea",
   "metadata": {},
   "outputs": [],
   "source": [
    "# df = pd.DataFrame(sample_thread)"
   ]
  },
  {
   "cell_type": "code",
   "execution_count": 21,
   "id": "8a8f9d60",
   "metadata": {},
   "outputs": [],
   "source": [
    "# df.shape"
   ]
  },
  {
   "cell_type": "code",
   "execution_count": 22,
   "id": "d4155f12",
   "metadata": {},
   "outputs": [],
   "source": [
    "class DFS:\n",
    "    \"Get all paths in a generic tree starting from the root\"\n",
    "    def __init__(self, children):\n",
    "        self.paths = []\n",
    "        self.children = children\n",
    "        \n",
    "    def _dfs(self, node, path):\n",
    "        path.append(node)\n",
    "        if node not in self.children:\n",
    "            self.paths.append(path)\n",
    "        else:\n",
    "            for child in self.children[node]:\n",
    "                self._dfs(child, path.copy())\n",
    "    \n",
    "    def get_all_paths(self, root):\n",
    "        self._dfs(root, [])\n",
    "        return self.paths\n",
    "    \n",
    "root = 1\n",
    "children = {1:[2,3], 2:[5,6], 6:[7]}\n",
    "dfs = DFS(children)\n",
    "paths = dfs.get_all_paths(root)\n",
    "assert paths == [[1,2,5], [1,2,6,7], [1,3]]"
   ]
  },
  {
   "cell_type": "code",
   "execution_count": 23,
   "id": "2d8aa44b",
   "metadata": {},
   "outputs": [],
   "source": [
    "def generate_paths_for_thread(thread_samples):\n",
    "    children = defaultdict(list)\n",
    "    for sample in thread_samples:\n",
    "        children[sample['parent_id'].split(\"_\")[1]].append(sample['id'])\n",
    "\n",
    "    reddit_dfs = DFS(children)\n",
    "    root = thread_samples[0]['link_id'].split(\"_\")[1]\n",
    "    reddit_paths = reddit_dfs.get_all_paths(root)\n",
    "    return reddit_paths"
   ]
  },
  {
   "cell_type": "code",
   "execution_count": 103,
   "id": "73f69cc2",
   "metadata": {},
   "outputs": [],
   "source": [
    "test_threads = [\n",
    "  {\n",
    "    \"body\": \"AAAA\",\n",
    "    \"author\": \"author-A\",\n",
    "    \"subreddit_id\": \"t5_subreddit-A\",\n",
    "    \"link_id\": \"t3_testthread\",\n",
    "    \"parent_id\": \"t3_testthread\",\n",
    "    \"id\": \"id-A\",\n",
    "    \"subreddit\": \"subreddit-A\"\n",
    "  },\n",
    "  {\n",
    "    \"body\": \"BBBB\",\n",
    "    \"author\": \"author-B\",\n",
    "    \"subreddit_id\": \"t5_subreddit-A\",\n",
    "    \"link_id\": \"t3_testthread\",\n",
    "    \"parent_id\": \"t2_id-A\",\n",
    "    \"id\": \"id-B\",\n",
    "    \"subreddit\": \"subreddit-A\"\n",
    "  },\n",
    "  {\n",
    "    \"body\": \"CCCC\",\n",
    "    \"author\": \"author-C\",\n",
    "    \"subreddit_id\": \"t5_subreddit-A\",\n",
    "    \"link_id\": \"t3_testthread\",\n",
    "    \"parent_id\": \"t2_id-B\",\n",
    "    \"id\": \"id-C\",\n",
    "    \"subreddit\": \"subreddit-A\"\n",
    "  },\n",
    "  {\n",
    "    \"body\": \"DDDD\",\n",
    "    \"author\": \"author-D\",\n",
    "    \"subreddit_id\": \"t5_subreddit-A\",\n",
    "    \"link_id\": \"t3_testthread\",\n",
    "    \"parent_id\": \"t2_id-B\",\n",
    "    \"id\": \"id-D\",\n",
    "    \"subreddit\": \"subreddit-A\"\n",
    "  },\n",
    "  {\n",
    "    \"body\": \"EEEE\",\n",
    "    \"author\": \"author-E\",\n",
    "    \"subreddit_id\": \"t5_subreddit-A\",\n",
    "    \"link_id\": \"t3_testthread\",\n",
    "    \"parent_id\": \"t2_id-D\",\n",
    "    \"id\": \"id-E\",\n",
    "    \"subreddit\": \"subreddit-A\"\n",
    "  },\n",
    "  {\n",
    "    \"body\": \"too long to create an example\",\n",
    "    \"author\": \"author-too-long\",\n",
    "    \"subreddit_id\": \"t5_subreddit-A\",\n",
    "    \"link_id\": \"t3_testthread\",\n",
    "    \"parent_id\": \"t2_id-D\",\n",
    "    \"id\": \"id-too-long\",\n",
    "    \"subreddit\": \"subreddit-A\"\n",
    "  },\n",
    "  {\n",
    "    \"body\": \"123\",\n",
    "    \"author\": \"author-too-short\",\n",
    "    \"subreddit_id\": \"t5_subreddit-A\",\n",
    "    \"link_id\": \"t3_testthread\",\n",
    "    \"parent_id\": \"t2_id-D\",\n",
    "    \"id\": \"id-too-short\",\n",
    "    \"subreddit\": \"subreddit-A\"\n",
    "  },\n",
    "  {\n",
    "    \"body\": \"FFFF\",\n",
    "    \"author\": \"author-too-short\",\n",
    "    \"subreddit_id\": \"t5_subreddit-A\",\n",
    "    \"link_id\": \"t3_testthread\",\n",
    "    \"parent_id\": \"t3_testthread\",\n",
    "    \"id\": \"id-no-replies\",\n",
    "    \"subreddit\": \"subreddit-A\"\n",
    "  }\n",
    "]\n"
   ]
  },
  {
   "cell_type": "code",
   "execution_count": 104,
   "id": "f6ca2ffb",
   "metadata": {},
   "outputs": [
    {
     "data": {
      "text/plain": [
       "[['testthread', 'id-A', 'id-B', 'id-C'],\n",
       " ['testthread', 'id-A', 'id-B', 'id-D', 'id-E'],\n",
       " ['testthread', 'id-A', 'id-B', 'id-D', 'id-too-long'],\n",
       " ['testthread', 'id-A', 'id-B', 'id-D', 'id-too-short'],\n",
       " ['testthread', 'id-no-replies']]"
      ]
     },
     "execution_count": 104,
     "metadata": {},
     "output_type": "execute_result"
    }
   ],
   "source": [
    "generate_paths_for_thread(test_threads)"
   ]
  },
  {
   "cell_type": "code",
   "execution_count": 24,
   "id": "b23ed85b",
   "metadata": {},
   "outputs": [
    {
     "data": {
      "text/plain": [
       "{'body': 'LOL @ how all the people around the hecklers left.',\n",
       " 'score_hidden': 'false',\n",
       " 'archived': 'false',\n",
       " 'name': None,\n",
       " 'author': 'VampRyan',\n",
       " 'author_flair_text': 'Hyun-jin Ryu',\n",
       " 'downs': None,\n",
       " 'created_utc': '1524889587',\n",
       " 'subreddit_id': 't5_2ra0i',\n",
       " 'link_id': 't3_8ffv4w',\n",
       " 'parent_id': 't3_8ffv4w',\n",
       " 'score': '9',\n",
       " 'retrieved_on': '1526830544',\n",
       " 'controversiality': '0',\n",
       " 'gilded': '0',\n",
       " 'id': 'dy3mth1',\n",
       " 'subreddit': 'Dodgers',\n",
       " 'ups': None,\n",
       " 'distinguished': None,\n",
       " 'author_flair_css_class': 'Ryu'}"
      ]
     },
     "execution_count": 24,
     "metadata": {},
     "output_type": "execute_result"
    }
   ],
   "source": [
    "thread2samples['8ffv4w'][0]"
   ]
  },
  {
   "cell_type": "code",
   "execution_count": 25,
   "id": "c50d1d39",
   "metadata": {},
   "outputs": [],
   "source": [
    "# groupby thread/link id\n",
    "thread2paths = defaultdict(list)\n",
    "for link_id, thread_samples in thread2samples.items():\n",
    "    thread2paths[link_id] = generate_paths_for_thread(thread_samples)"
   ]
  },
  {
   "cell_type": "code",
   "execution_count": 26,
   "id": "8a8d0137",
   "metadata": {},
   "outputs": [
    {
     "data": {
      "text/plain": [
       "{'8fgnxe': 13261, '8ffv4w': 2082}"
      ]
     },
     "execution_count": 26,
     "metadata": {},
     "output_type": "execute_result"
    }
   ],
   "source": [
    "{k:len(v) for k,v in thread2samples.items()}"
   ]
  },
  {
   "cell_type": "code",
   "execution_count": 27,
   "id": "c3e56d89",
   "metadata": {},
   "outputs": [
    {
     "data": {
      "text/plain": [
       "{'8fgnxe': 10464, '8ffv4w': 1557}"
      ]
     },
     "execution_count": 27,
     "metadata": {},
     "output_type": "execute_result"
    }
   ],
   "source": [
    "{k:len(v) for k,v in thread2paths.items()}"
   ]
  },
  {
   "cell_type": "code",
   "execution_count": 28,
   "id": "ae013444",
   "metadata": {},
   "outputs": [
    {
     "data": {
      "text/plain": [
       "2"
      ]
     },
     "execution_count": 28,
     "metadata": {},
     "output_type": "execute_result"
    }
   ],
   "source": [
    "len(thread2samples)"
   ]
  },
  {
   "cell_type": "code",
   "execution_count": 64,
   "id": "24de1487",
   "metadata": {},
   "outputs": [],
   "source": [
    "from collections import namedtuple"
   ]
  },
  {
   "cell_type": "code",
   "execution_count": 74,
   "id": "6aefd214",
   "metadata": {},
   "outputs": [],
   "source": [
    "Comment = namedtuple(\n",
    "    \"Comment\",\n",
    "    [\n",
    "        \"id\",\n",
    "        \"thread_id\",\n",
    "        \"parent_id\",\n",
    "        \"body\",\n",
    "        \"author\",\n",
    "        \"subreddit\",\n",
    "    ]\n",
    ")\n"
   ]
  },
  {
   "cell_type": "code",
   "execution_count": 75,
   "id": "be8f3a8c",
   "metadata": {},
   "outputs": [],
   "source": [
    "comment = sample"
   ]
  },
  {
   "cell_type": "code",
   "execution_count": 77,
   "id": "68d7b0d1",
   "metadata": {},
   "outputs": [],
   "source": [
    "c = Comment(\n",
    "        id=comment['id'],\n",
    "        thread_id=comment['link_id'],\n",
    "        parent_id=comment['parent_id'],\n",
    "        body=comment['body'],\n",
    "        author=comment['author'],\n",
    "        subreddit=comment['subreddit'],\n",
    "    )"
   ]
  },
  {
   "cell_type": "code",
   "execution_count": 81,
   "id": "fce7018f",
   "metadata": {},
   "outputs": [
    {
     "data": {
      "text/plain": [
       "'dy3ogfn'"
      ]
     },
     "execution_count": 81,
     "metadata": {},
     "output_type": "execute_result"
    }
   ],
   "source": [
    "c.id"
   ]
  },
  {
   "cell_type": "code",
   "execution_count": 29,
   "id": "08076ae1",
   "metadata": {},
   "outputs": [],
   "source": [
    "# filter path length > 2\n",
    "examples = []\n",
    "for thread_id in thread2paths:\n",
    "    \n",
    "    samples = thread2samples[thread_id]\n",
    "    id2sample = {sample['id']:sample for sample in samples}\n",
    "    id2sample[thread_id] = {\"body\":\"[root]\"}\n",
    "    \n",
    "    for path in thread2paths[thread_id]:\n",
    "        \n",
    "        if len(path) <= 2:\n",
    "            continue\n",
    "            \n",
    "        comments = []\n",
    "        for comment_id in path:\n",
    "            comment_text = id2sample[comment_id]['body']\n",
    "            if comment_text in ['[deleted]', '[removed]']:\n",
    "                continue\n",
    "            comments.append(comment_text)\n",
    "        \n",
    "        if len(comments) <= 2:\n",
    "            continue\n",
    "        \n",
    "        examples.append({\"link_id\":thread_id, \"comments\":comments})\n",
    "        \n",
    "        \n",
    "        "
   ]
  },
  {
   "cell_type": "code",
   "execution_count": 30,
   "id": "e5019b25",
   "metadata": {},
   "outputs": [
    {
     "data": {
      "text/plain": [
       "3357"
      ]
     },
     "execution_count": 30,
     "metadata": {},
     "output_type": "execute_result"
    }
   ],
   "source": [
    "len(examples)"
   ]
  },
  {
   "cell_type": "code",
   "execution_count": 31,
   "id": "6758462b",
   "metadata": {},
   "outputs": [
    {
     "data": {
      "text/plain": [
       "{'link_id': '8fgnxe',\n",
       " 'comments': ['[root]',\n",
       "  \"OKC offense is the ugliest I've ever seen. Everyone's just standing around and they'll run maybe one pick n roll.\",\n",
       "  'It\\'s very \"when the going gets tough, ISO/ISO/ISO\".  I\\'ve seen a ton of OKC this yr in which they\\'ve moved the ball around really well.  This series is clearly not an example of that, which is a shame.']}"
      ]
     },
     "execution_count": 31,
     "metadata": {},
     "output_type": "execute_result"
    }
   ],
   "source": [
    "examples[0]"
   ]
  },
  {
   "cell_type": "code",
   "execution_count": 32,
   "id": "848a1794",
   "metadata": {},
   "outputs": [
    {
     "data": {
      "text/plain": [
       "3     2553\n",
       "4      527\n",
       "5      173\n",
       "6       62\n",
       "7       23\n",
       "8       10\n",
       "9        4\n",
       "10       2\n",
       "11       1\n",
       "13       1\n",
       "12       1\n",
       "dtype: int64"
      ]
     },
     "execution_count": 32,
     "metadata": {},
     "output_type": "execute_result"
    }
   ],
   "source": [
    "pd.value_counts([len(o['comments']) for o in examples])"
   ]
  },
  {
   "cell_type": "code",
   "execution_count": 33,
   "id": "10fcbd6b",
   "metadata": {},
   "outputs": [
    {
     "data": {
      "text/plain": [
       "{'link_id': '8fgnxe',\n",
       " 'comments': ['[root]',\n",
       "  'HOW IS EVERYONE OKAY WITH THAT FOUL NOT BEING CALLED',\n",
       "  'Everyone hates that lean-in shit. Anytime it is not called, people will rejoice.',\n",
       "  'ITS BEEN CALLED THE WHOLE YEAR BRO..YOU CANT NOT JUST CALL IT IN THAT MOMENT']}"
      ]
     },
     "execution_count": 33,
     "metadata": {},
     "output_type": "execute_result"
    }
   ],
   "source": [
    "examples[np.random.choice(len(examples))]"
   ]
  },
  {
   "cell_type": "markdown",
   "id": "0f65b724",
   "metadata": {},
   "source": [
    "### Language Detection"
   ]
  },
  {
   "cell_type": "code",
   "execution_count": 112,
   "id": "7957c924",
   "metadata": {},
   "outputs": [],
   "source": [
    "import cld3, fasttext, langdetect"
   ]
  },
  {
   "cell_type": "code",
   "execution_count": 113,
   "id": "21ce526b",
   "metadata": {},
   "outputs": [],
   "source": [
    "ft_langmodel = fasttext.load_model(\"/Users/keremturgutlu/Desktop/git/fastText/models/lid.176.bin\")"
   ]
  },
  {
   "cell_type": "code",
   "execution_count": 116,
   "id": "9de1eca8",
   "metadata": {},
   "outputs": [],
   "source": [
    "for example in examples:\n",
    "    text = \" \".join(example['comments'])\n",
    "    lang = cld3.get_language(text).language\n",
    "#     lang = ft_langmodel.predict(text.replace(\"\\n\",\" \"))[0][0][9:]\n",
    "#     langdetect.detect(text)\n",
    "    example['lang'] = lang"
   ]
  },
  {
   "cell_type": "code",
   "execution_count": 117,
   "id": "b9d6db64",
   "metadata": {},
   "outputs": [
    {
     "data": {
      "text/plain": [
       "en         3262\n",
       "af           12\n",
       "nl           12\n",
       "lb            9\n",
       "sn            8\n",
       "so            5\n",
       "fy            5\n",
       "ig            4\n",
       "mg            4\n",
       "sr            3\n",
       "ca            3\n",
       "id            3\n",
       "no            3\n",
       "jv            2\n",
       "zh-Latn       2\n",
       "hmn           2\n",
       "mt            2\n",
       "vi            2\n",
       "mi            1\n",
       "ht            1\n",
       "tg            1\n",
       "de            1\n",
       "bg            1\n",
       "ny            1\n",
       "fr            1\n",
       "ha            1\n",
       "bg-Latn       1\n",
       "ms            1\n",
       "ja            1\n",
       "et            1\n",
       "zu            1\n",
       "uz            1\n",
       "dtype: int64"
      ]
     },
     "execution_count": 117,
     "metadata": {},
     "output_type": "execute_result"
    }
   ],
   "source": [
    "pd.value_counts([o['lang'] for o in examples])"
   ]
  },
  {
   "cell_type": "code",
   "execution_count": 126,
   "id": "82055a99",
   "metadata": {},
   "outputs": [
    {
     "data": {
      "text/plain": [
       "LanguagePrediction(language='tr', probability=0.9798580408096313, is_reliable=True, proportion=1.0)"
      ]
     },
     "execution_count": 126,
     "metadata": {},
     "output_type": "execute_result"
    }
   ],
   "source": [
    "cld3.get_language(\"Merhaba, ben dost! Evet aslinda burada yazacak kadar da degil.\")"
   ]
  },
  {
   "cell_type": "code",
   "execution_count": 111,
   "id": "adbd1812",
   "metadata": {},
   "outputs": [
    {
     "data": {
      "text/plain": [
       "'tr'"
      ]
     },
     "execution_count": 111,
     "metadata": {},
     "output_type": "execute_result"
    }
   ],
   "source": [
    "langdetect.detect(\"Merhaba dunyali ben bir dostum. Nereye gitsem ki bilemiyorum.\")"
   ]
  },
  {
   "cell_type": "markdown",
   "id": "a110b825",
   "metadata": {},
   "source": [
    "TODO: Write apache beam pipeline which creates reddit comments dialogues, detects language and writes comments in en and tr in separate directories."
   ]
  },
  {
   "cell_type": "code",
   "execution_count": null,
   "id": "60b13823",
   "metadata": {},
   "outputs": [],
   "source": []
  },
  {
   "cell_type": "code",
   "execution_count": null,
   "id": "1d698061",
   "metadata": {},
   "outputs": [],
   "source": []
  },
  {
   "cell_type": "code",
   "execution_count": null,
   "id": "261bfd12",
   "metadata": {},
   "outputs": [],
   "source": []
  },
  {
   "cell_type": "code",
   "execution_count": null,
   "id": "6d21e07c",
   "metadata": {},
   "outputs": [],
   "source": []
  },
  {
   "cell_type": "code",
   "execution_count": null,
   "id": "95693167",
   "metadata": {},
   "outputs": [],
   "source": []
  },
  {
   "cell_type": "code",
   "execution_count": null,
   "id": "4488b789",
   "metadata": {},
   "outputs": [],
   "source": []
  },
  {
   "cell_type": "code",
   "execution_count": null,
   "id": "568fc0f3",
   "metadata": {},
   "outputs": [],
   "source": []
  },
  {
   "cell_type": "code",
   "execution_count": null,
   "id": "23c66455",
   "metadata": {},
   "outputs": [],
   "source": []
  },
  {
   "cell_type": "code",
   "execution_count": null,
   "id": "d8e3bc2a",
   "metadata": {},
   "outputs": [],
   "source": []
  }
 ],
 "metadata": {
  "kernelspec": {
   "display_name": "Python 3 (ipykernel)",
   "language": "python",
   "name": "python3"
  },
  "language_info": {
   "codemirror_mode": {
    "name": "ipython",
    "version": 3
   },
   "file_extension": ".py",
   "mimetype": "text/x-python",
   "name": "python",
   "nbconvert_exporter": "python",
   "pygments_lexer": "ipython3",
   "version": "3.9.16"
  }
 },
 "nbformat": 4,
 "nbformat_minor": 5
}
